{
 "cells": [
  {
   "cell_type": "code",
   "execution_count": null,
   "id": "b62fef35",
   "metadata": {},
   "outputs": [
    {
     "name": "stderr",
     "output_type": "stream",
     "text": [
      "CUDA not available - defaulting to CPU. Note: This module is much faster with a GPU.\n",
      "Downloading recognition model, please wait. This may take several minutes depending upon your network connection.\n"
     ]
    },
    {
     "name": "stdout",
     "output_type": "stream",
     "text": [
      "Progress: |█████---------------------------------------------| 10.4% Complete"
     ]
    }
   ],
   "source": [
    "import cv2\n",
    "import easyocr\n",
    "import matplotlib.pyplot as plt\n",
    "import numpy as np\n",
    "\n",
    "# read image\n",
    "image_path = r\"C:\\Users\\sevan\\Downloads\\test1.png\"\n",
    "\n",
    "img = cv2.imread(image_path)\n",
    "\n",
    "# instance text detector\n",
    "reader = easyocr.Reader(['hi'], gpu=True)\n",
    "\n",
    "# detect text on image\n",
    "text_ = reader.readtext(img)\n",
    "\n",
    "threshold = 0.25\n",
    "# draw bbox and text\n",
    "for t_, t in enumerate(text_):\n",
    "    print(t)\n",
    "\n",
    "    bbox, text, score = t\n",
    "\n",
    "    if score > threshold:\n",
    "        cv2.rectangle(img, bbox[0], bbox[2], (0, 255, 0), 5)\n",
    "        cv2.putText(img, text, bbox[0], cv2.FONT_HERSHEY_COMPLEX, 0.65, (255, 0, 0), 2)\n",
    "\n",
    "plt.imshow(cv2.cvtColor(img, cv2.COLOR_BGR2RGB))\n",
    "plt.show()"
   ]
  },
  {
   "cell_type": "code",
   "execution_count": null,
   "id": "1fb6fd30",
   "metadata": {},
   "outputs": [],
   "source": [
    "import easyocr\n",
    "import json\n",
    "import os\n",
    "from pdf2image import convert_from_path\n",
    "from PIL import Image\n",
    "\n",
    "# Define the OCR reader object\n",
    "reader = easyocr.Reader(['en', 'hi'])\n",
    "\n",
    "# Define the path of the pdf file\n",
    "pdf_path = \n",
    "\n",
    "# Convert each page of the pdf file to an image and process it using OCR\n",
    "for page_num, page_image in enumerate(convert_from_path(pdf_path)):\n",
    "    # Process page image using OCR\n",
    "    output = reader.readtext(page_image)\n",
    "\n",
    "    # Save each line in separate jpg files and save the bounding box coordinates in a JSON format\n",
    "    for i, item in enumerate(output):\n",
    "        box_name = f\"box_{page_num}_{i}\"\n",
    "        coordinates = {\"top_left\": item[0][0], \"top_right\": item[0][1], \n",
    "                       \"bottom_left\": item[0][2], \"bottom_right\": item[0][3]}\n",
    "        with open(f\"{box_name}.json\", \"w\") as f:\n",
    "            json.dump(coordinates, f)\n",
    "        line_image = page_image.crop(item[0])\n",
    "        line_image.save(f\"{box_name}.jpg\")\n"
   ]
  }
 ],
 "metadata": {
  "kernelspec": {
   "display_name": "Python 3 (ipykernel)",
   "language": "python",
   "name": "python3"
  },
  "language_info": {
   "codemirror_mode": {
    "name": "ipython",
    "version": 3
   },
   "file_extension": ".py",
   "mimetype": "text/x-python",
   "name": "python",
   "nbconvert_exporter": "python",
   "pygments_lexer": "ipython3",
   "version": "3.10.0"
  }
 },
 "nbformat": 4,
 "nbformat_minor": 5
}
